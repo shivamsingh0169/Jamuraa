{
 "cells": [
  {
   "cell_type": "markdown",
   "id": "0eea53a9",
   "metadata": {},
   "source": [
    "# JAMURAA"
   ]
  },
  {
   "cell_type": "raw",
   "id": "069e06e5",
   "metadata": {},
   "source": [
    "YOUR MARKET PREDICTOR"
   ]
  },
  {
   "cell_type": "code",
   "execution_count": 1,
   "id": "6d0df56f",
   "metadata": {},
   "outputs": [
    {
     "name": "stdout",
     "output_type": "stream",
     "text": [
      "HELLO USER\n"
     ]
    }
   ],
   "source": [
    "print(\"HELLO USER\")"
   ]
  },
  {
   "cell_type": "code",
   "execution_count": 2,
   "id": "4c28540f",
   "metadata": {},
   "outputs": [],
   "source": [
    "import yfinance as yf"
   ]
  },
  {
   "cell_type": "code",
   "execution_count": 3,
   "id": "09c9e6cd",
   "metadata": {},
   "outputs": [
    {
     "name": "stdout",
     "output_type": "stream",
     "text": [
      "Enter the ticker for stock\n"
     ]
    }
   ],
   "source": [
    "print(\"Enter the ticker for stock\")"
   ]
  },
  {
   "cell_type": "code",
   "execution_count": 4,
   "id": "f07675a2",
   "metadata": {},
   "outputs": [
    {
     "name": "stdout",
     "output_type": "stream",
     "text": [
      "acn\n"
     ]
    }
   ],
   "source": [
    "ticker=input()"
   ]
  },
  {
   "cell_type": "code",
   "execution_count": 5,
   "id": "89e6a939",
   "metadata": {},
   "outputs": [
    {
     "name": "stdout",
     "output_type": "stream",
     "text": [
      "Enter the date for which you want prediction \n"
     ]
    }
   ],
   "source": [
    "print('Enter the date for which you want prediction ')"
   ]
  },
  {
   "cell_type": "code",
   "execution_count": 6,
   "id": "7666cc42",
   "metadata": {},
   "outputs": [
    {
     "name": "stdout",
     "output_type": "stream",
     "text": [
      "Enter Year :2024\n"
     ]
    }
   ],
   "source": [
    "year=int(input(\"Enter Year :\"))"
   ]
  },
  {
   "cell_type": "code",
   "execution_count": 7,
   "id": "186833d6",
   "metadata": {},
   "outputs": [
    {
     "name": "stdout",
     "output_type": "stream",
     "text": [
      "Enter Month : 03\n"
     ]
    }
   ],
   "source": [
    "month=int(input(\"Enter Month : \"))"
   ]
  },
  {
   "cell_type": "code",
   "execution_count": 8,
   "id": "99f3f169",
   "metadata": {},
   "outputs": [
    {
     "name": "stdout",
     "output_type": "stream",
     "text": [
      "Enter Date : 27\n"
     ]
    }
   ],
   "source": [
    "date=int(input(\"Enter Date : \"))"
   ]
  },
  {
   "cell_type": "code",
   "execution_count": 9,
   "id": "07967ebb",
   "metadata": {},
   "outputs": [],
   "source": [
    "start_date=date-10\n",
    "start_month=month\n",
    "start_year=year"
   ]
  },
  {
   "cell_type": "code",
   "execution_count": 10,
   "id": "23a4a2ad",
   "metadata": {},
   "outputs": [],
   "source": [
    "if start_date<0:\n",
    "    start_date=31+start_date\n",
    "    if start_month==1:\n",
    "        start_month=12\n",
    "        start_year=start_year-1\n",
    "    else :\n",
    "        start_month=start_month-1\n",
    "        \n",
    "        "
   ]
  },
  {
   "cell_type": "code",
   "execution_count": 11,
   "id": "d6042499",
   "metadata": {},
   "outputs": [
    {
     "name": "stdout",
     "output_type": "stream",
     "text": [
      "2024\n"
     ]
    }
   ],
   "source": [
    "print(start_year)"
   ]
  },
  {
   "cell_type": "code",
   "execution_count": 12,
   "id": "a0b69a3e",
   "metadata": {},
   "outputs": [
    {
     "name": "stdout",
     "output_type": "stream",
     "text": [
      "17\n"
     ]
    }
   ],
   "source": [
    "print(start_date)"
   ]
  },
  {
   "cell_type": "code",
   "execution_count": 13,
   "id": "38175a25",
   "metadata": {},
   "outputs": [
    {
     "name": "stdout",
     "output_type": "stream",
     "text": [
      "3\n"
     ]
    }
   ],
   "source": [
    "print(start_month)"
   ]
  },
  {
   "cell_type": "code",
   "execution_count": 14,
   "id": "3fde9abd",
   "metadata": {},
   "outputs": [],
   "source": [
    "sdate=str(start_year)+'-'+str(start_month)+'-'+str(start_date)"
   ]
  },
  {
   "cell_type": "code",
   "execution_count": 15,
   "id": "fd7e3449",
   "metadata": {},
   "outputs": [
    {
     "data": {
      "text/plain": [
       "'2024-3-17'"
      ]
     },
     "execution_count": 15,
     "metadata": {},
     "output_type": "execute_result"
    }
   ],
   "source": [
    "sdate\n"
   ]
  },
  {
   "cell_type": "code",
   "execution_count": 16,
   "id": "d26e8297",
   "metadata": {},
   "outputs": [],
   "source": [
    "t_day=str(year)+'-'+str(month)+'-'+str(date)"
   ]
  },
  {
   "cell_type": "code",
   "execution_count": 17,
   "id": "37b03680",
   "metadata": {},
   "outputs": [
    {
     "data": {
      "text/plain": [
       "'2024-3-27'"
      ]
     },
     "execution_count": 17,
     "metadata": {},
     "output_type": "execute_result"
    }
   ],
   "source": [
    "t_day"
   ]
  },
  {
   "cell_type": "markdown",
   "id": "3012ac69",
   "metadata": {},
   "source": [
    "# Finding initial trend"
   ]
  },
  {
   "cell_type": "code",
   "execution_count": 18,
   "id": "78d1fb13",
   "metadata": {},
   "outputs": [
    {
     "name": "stdout",
     "output_type": "stream",
     "text": [
      "[*********************100%%**********************]  1 of 1 completed\n"
     ]
    }
   ],
   "source": [
    "data=yf.download(ticker.upper(),sdate,t_day)"
   ]
  },
  {
   "cell_type": "code",
   "execution_count": 19,
   "id": "3b47f797",
   "metadata": {},
   "outputs": [
    {
     "data": {
      "text/html": [
       "<div>\n",
       "<style scoped>\n",
       "    .dataframe tbody tr th:only-of-type {\n",
       "        vertical-align: middle;\n",
       "    }\n",
       "\n",
       "    .dataframe tbody tr th {\n",
       "        vertical-align: top;\n",
       "    }\n",
       "\n",
       "    .dataframe thead th {\n",
       "        text-align: right;\n",
       "    }\n",
       "</style>\n",
       "<table border=\"1\" class=\"dataframe\">\n",
       "  <thead>\n",
       "    <tr style=\"text-align: right;\">\n",
       "      <th></th>\n",
       "      <th>Open</th>\n",
       "      <th>High</th>\n",
       "      <th>Low</th>\n",
       "      <th>Close</th>\n",
       "      <th>Adj Close</th>\n",
       "      <th>Volume</th>\n",
       "    </tr>\n",
       "    <tr>\n",
       "      <th>Date</th>\n",
       "      <th></th>\n",
       "      <th></th>\n",
       "      <th></th>\n",
       "      <th></th>\n",
       "      <th></th>\n",
       "      <th></th>\n",
       "    </tr>\n",
       "  </thead>\n",
       "  <tbody>\n",
       "    <tr>\n",
       "      <th>2024-03-18</th>\n",
       "      <td>378.760010</td>\n",
       "      <td>378.940002</td>\n",
       "      <td>372.179993</td>\n",
       "      <td>372.670013</td>\n",
       "      <td>372.670013</td>\n",
       "      <td>2164400</td>\n",
       "    </tr>\n",
       "    <tr>\n",
       "      <th>2024-03-19</th>\n",
       "      <td>373.489990</td>\n",
       "      <td>378.329987</td>\n",
       "      <td>371.029999</td>\n",
       "      <td>378.079987</td>\n",
       "      <td>378.079987</td>\n",
       "      <td>2062800</td>\n",
       "    </tr>\n",
       "    <tr>\n",
       "      <th>2024-03-20</th>\n",
       "      <td>378.029999</td>\n",
       "      <td>381.269989</td>\n",
       "      <td>375.200012</td>\n",
       "      <td>380.440002</td>\n",
       "      <td>380.440002</td>\n",
       "      <td>2877600</td>\n",
       "    </tr>\n",
       "    <tr>\n",
       "      <th>2024-03-21</th>\n",
       "      <td>363.989990</td>\n",
       "      <td>369.029999</td>\n",
       "      <td>342.279999</td>\n",
       "      <td>345.029999</td>\n",
       "      <td>345.029999</td>\n",
       "      <td>9574800</td>\n",
       "    </tr>\n",
       "    <tr>\n",
       "      <th>2024-03-22</th>\n",
       "      <td>350.329987</td>\n",
       "      <td>350.470001</td>\n",
       "      <td>335.790009</td>\n",
       "      <td>337.500000</td>\n",
       "      <td>337.500000</td>\n",
       "      <td>5899300</td>\n",
       "    </tr>\n",
       "    <tr>\n",
       "      <th>2024-03-25</th>\n",
       "      <td>336.010010</td>\n",
       "      <td>336.010010</td>\n",
       "      <td>329.690002</td>\n",
       "      <td>333.820007</td>\n",
       "      <td>333.820007</td>\n",
       "      <td>5320000</td>\n",
       "    </tr>\n",
       "    <tr>\n",
       "      <th>2024-03-26</th>\n",
       "      <td>335.140015</td>\n",
       "      <td>337.839996</td>\n",
       "      <td>334.339996</td>\n",
       "      <td>336.390015</td>\n",
       "      <td>336.390015</td>\n",
       "      <td>3006500</td>\n",
       "    </tr>\n",
       "  </tbody>\n",
       "</table>\n",
       "</div>"
      ],
      "text/plain": [
       "                  Open        High         Low       Close   Adj Close  \\\n",
       "Date                                                                     \n",
       "2024-03-18  378.760010  378.940002  372.179993  372.670013  372.670013   \n",
       "2024-03-19  373.489990  378.329987  371.029999  378.079987  378.079987   \n",
       "2024-03-20  378.029999  381.269989  375.200012  380.440002  380.440002   \n",
       "2024-03-21  363.989990  369.029999  342.279999  345.029999  345.029999   \n",
       "2024-03-22  350.329987  350.470001  335.790009  337.500000  337.500000   \n",
       "2024-03-25  336.010010  336.010010  329.690002  333.820007  333.820007   \n",
       "2024-03-26  335.140015  337.839996  334.339996  336.390015  336.390015   \n",
       "\n",
       "             Volume  \n",
       "Date                 \n",
       "2024-03-18  2164400  \n",
       "2024-03-19  2062800  \n",
       "2024-03-20  2877600  \n",
       "2024-03-21  9574800  \n",
       "2024-03-22  5899300  \n",
       "2024-03-25  5320000  \n",
       "2024-03-26  3006500  "
      ]
     },
     "execution_count": 19,
     "metadata": {},
     "output_type": "execute_result"
    }
   ],
   "source": [
    "data"
   ]
  },
  {
   "cell_type": "code",
   "execution_count": 20,
   "id": "b8946447",
   "metadata": {},
   "outputs": [],
   "source": [
    "close_price=[]"
   ]
  },
  {
   "cell_type": "code",
   "execution_count": 21,
   "id": "80529747",
   "metadata": {},
   "outputs": [],
   "source": [
    "for i in data['Close']:\n",
    "    close_price.append(i)"
   ]
  },
  {
   "cell_type": "code",
   "execution_count": 22,
   "id": "3e8e35ce",
   "metadata": {},
   "outputs": [
    {
     "data": {
      "text/plain": [
       "[372.6700134277344,\n",
       " 378.0799865722656,\n",
       " 380.44000244140625,\n",
       " 345.0299987792969,\n",
       " 337.5,\n",
       " 333.82000732421875,\n",
       " 336.3900146484375]"
      ]
     },
     "execution_count": 22,
     "metadata": {},
     "output_type": "execute_result"
    }
   ],
   "source": [
    "close_price"
   ]
  },
  {
   "cell_type": "code",
   "execution_count": 23,
   "id": "93f17e12",
   "metadata": {},
   "outputs": [],
   "source": [
    "uptrend=0\n",
    "downtrend=0\n",
    "sideway=0"
   ]
  },
  {
   "cell_type": "code",
   "execution_count": 24,
   "id": "2128ca0d",
   "metadata": {},
   "outputs": [],
   "source": [
    "size=len(close_price)"
   ]
  },
  {
   "cell_type": "code",
   "execution_count": 25,
   "id": "586045b9",
   "metadata": {},
   "outputs": [],
   "source": [
    "for i in range(0,size-1):\n",
    "    if(close_price[i+1]>close_price[i]):\n",
    "        uptrend=uptrend+1\n",
    "    "
   ]
  },
  {
   "cell_type": "code",
   "execution_count": 26,
   "id": "f80517b1",
   "metadata": {},
   "outputs": [
    {
     "data": {
      "text/plain": [
       "3"
      ]
     },
     "execution_count": 26,
     "metadata": {},
     "output_type": "execute_result"
    }
   ],
   "source": [
    "uptrend"
   ]
  },
  {
   "cell_type": "code",
   "execution_count": 27,
   "id": "6c540a18",
   "metadata": {},
   "outputs": [],
   "source": [
    "for i in range(0,size-1):\n",
    "    if(close_price[i]>close_price[i+1]):\n",
    "        downtrend=downtrend+1\n",
    "        \n",
    "    "
   ]
  },
  {
   "cell_type": "code",
   "execution_count": 28,
   "id": "438caf1a",
   "metadata": {},
   "outputs": [
    {
     "data": {
      "text/plain": [
       "3"
      ]
     },
     "execution_count": 28,
     "metadata": {},
     "output_type": "execute_result"
    }
   ],
   "source": [
    "downtrend"
   ]
  },
  {
   "cell_type": "code",
   "execution_count": 29,
   "id": "545a8625",
   "metadata": {},
   "outputs": [],
   "source": [
    "trend='NULL'"
   ]
  },
  {
   "cell_type": "code",
   "execution_count": 30,
   "id": "a9ff3c52",
   "metadata": {},
   "outputs": [],
   "source": [
    "if uptrend>downtrend:\n",
    "    trend='uptrend'"
   ]
  },
  {
   "cell_type": "code",
   "execution_count": 31,
   "id": "a65776fb",
   "metadata": {},
   "outputs": [],
   "source": [
    "if downtrend>uptrend:\n",
    "    trend='downtrend'"
   ]
  },
  {
   "cell_type": "code",
   "execution_count": 32,
   "id": "b4d5bdb4",
   "metadata": {},
   "outputs": [],
   "source": [
    "if uptrend==downtrend:\n",
    "    trend='sideways'"
   ]
  },
  {
   "cell_type": "code",
   "execution_count": 33,
   "id": "4e319dc3",
   "metadata": {},
   "outputs": [
    {
     "name": "stdout",
     "output_type": "stream",
     "text": [
      "sideways\n"
     ]
    }
   ],
   "source": [
    "print(trend)"
   ]
  },
  {
   "cell_type": "code",
   "execution_count": 34,
   "id": "bf2421c2",
   "metadata": {},
   "outputs": [],
   "source": [
    "#^^^initial trend^^^"
   ]
  },
  {
   "cell_type": "markdown",
   "id": "e69a62bd",
   "metadata": {},
   "source": [
    "# finding nature of candletsick for T-1 Day"
   ]
  },
  {
   "cell_type": "code",
   "execution_count": 35,
   "id": "eba9dd8f",
   "metadata": {},
   "outputs": [],
   "source": [
    "high=[]\n",
    "low=[]\n",
    "open=[]\n",
    "close=[]"
   ]
  },
  {
   "cell_type": "code",
   "execution_count": 36,
   "id": "2c23f31e",
   "metadata": {},
   "outputs": [],
   "source": [
    "for i in data['High']:\n",
    "    high.append(i)"
   ]
  },
  {
   "cell_type": "code",
   "execution_count": 37,
   "id": "eab26ae8",
   "metadata": {},
   "outputs": [
    {
     "data": {
      "text/plain": [
       "[378.94000244140625,\n",
       " 378.3299865722656,\n",
       " 381.2699890136719,\n",
       " 369.0299987792969,\n",
       " 350.4700012207031,\n",
       " 336.010009765625,\n",
       " 337.8399963378906]"
      ]
     },
     "execution_count": 37,
     "metadata": {},
     "output_type": "execute_result"
    }
   ],
   "source": [
    "high"
   ]
  },
  {
   "cell_type": "code",
   "execution_count": 38,
   "id": "3c000b61",
   "metadata": {},
   "outputs": [],
   "source": [
    "for i in data['Low']:\n",
    "    low.append(i)"
   ]
  },
  {
   "cell_type": "code",
   "execution_count": 39,
   "id": "d075681b",
   "metadata": {},
   "outputs": [
    {
     "data": {
      "text/plain": [
       "[372.17999267578125,\n",
       " 371.0299987792969,\n",
       " 375.20001220703125,\n",
       " 342.2799987792969,\n",
       " 335.7900085449219,\n",
       " 329.69000244140625,\n",
       " 334.3399963378906]"
      ]
     },
     "execution_count": 39,
     "metadata": {},
     "output_type": "execute_result"
    }
   ],
   "source": [
    "low"
   ]
  },
  {
   "cell_type": "code",
   "execution_count": 40,
   "id": "d29a3e3a",
   "metadata": {},
   "outputs": [],
   "source": [
    "for i in data['Open']:\n",
    "    open.append(i)"
   ]
  },
  {
   "cell_type": "code",
   "execution_count": 41,
   "id": "64b85f49",
   "metadata": {},
   "outputs": [
    {
     "data": {
      "text/plain": [
       "[378.760009765625,\n",
       " 373.489990234375,\n",
       " 378.0299987792969,\n",
       " 363.989990234375,\n",
       " 350.3299865722656,\n",
       " 336.010009765625,\n",
       " 335.1400146484375]"
      ]
     },
     "execution_count": 41,
     "metadata": {},
     "output_type": "execute_result"
    }
   ],
   "source": [
    "open\n"
   ]
  },
  {
   "cell_type": "code",
   "execution_count": 42,
   "id": "d1e7358c",
   "metadata": {},
   "outputs": [],
   "source": [
    "for i in data['Close']:\n",
    "    close.append(i)"
   ]
  },
  {
   "cell_type": "code",
   "execution_count": 43,
   "id": "8cb570ca",
   "metadata": {},
   "outputs": [
    {
     "data": {
      "text/plain": [
       "[372.6700134277344,\n",
       " 378.0799865722656,\n",
       " 380.44000244140625,\n",
       " 345.0299987792969,\n",
       " 337.5,\n",
       " 333.82000732421875,\n",
       " 336.3900146484375]"
      ]
     },
     "execution_count": 43,
     "metadata": {},
     "output_type": "execute_result"
    }
   ],
   "source": [
    "close"
   ]
  },
  {
   "cell_type": "code",
   "execution_count": 44,
   "id": "4c570705",
   "metadata": {},
   "outputs": [],
   "source": [
    "diff_high_low=high[-1]-low[-1]"
   ]
  },
  {
   "cell_type": "code",
   "execution_count": 45,
   "id": "e6fe6024",
   "metadata": {},
   "outputs": [
    {
     "data": {
      "text/plain": [
       "3.5"
      ]
     },
     "execution_count": 45,
     "metadata": {},
     "output_type": "execute_result"
    }
   ],
   "source": [
    "diff_high_low"
   ]
  },
  {
   "cell_type": "code",
   "execution_count": 46,
   "id": "b2dd4885",
   "metadata": {},
   "outputs": [],
   "source": [
    "diff_close_open=close[-1]-open[-1]"
   ]
  },
  {
   "cell_type": "code",
   "execution_count": 47,
   "id": "8a9e17c2",
   "metadata": {},
   "outputs": [
    {
     "data": {
      "text/plain": [
       "1.25"
      ]
     },
     "execution_count": 47,
     "metadata": {},
     "output_type": "execute_result"
    }
   ],
   "source": [
    "diff_close_open"
   ]
  },
  {
   "cell_type": "code",
   "execution_count": 48,
   "id": "745ac5e3",
   "metadata": {},
   "outputs": [],
   "source": [
    "if diff_close_open<0:\n",
    "    diff_close_open=diff_close_open*(-1)"
   ]
  },
  {
   "cell_type": "code",
   "execution_count": 49,
   "id": "3ab29f40",
   "metadata": {},
   "outputs": [
    {
     "data": {
      "text/plain": [
       "1.25"
      ]
     },
     "execution_count": 49,
     "metadata": {},
     "output_type": "execute_result"
    }
   ],
   "source": [
    "diff_close_open"
   ]
  },
  {
   "cell_type": "code",
   "execution_count": 50,
   "id": "b64aec7e",
   "metadata": {},
   "outputs": [],
   "source": [
    "partition=(diff_close_open/diff_high_low)*100"
   ]
  },
  {
   "cell_type": "markdown",
   "id": "3d8d54d1",
   "metadata": {},
   "source": [
    "# partition"
   ]
  },
  {
   "cell_type": "code",
   "execution_count": 51,
   "id": "17e100a8",
   "metadata": {},
   "outputs": [
    {
     "data": {
      "text/plain": [
       "35.714285714285715"
      ]
     },
     "execution_count": 51,
     "metadata": {},
     "output_type": "execute_result"
    }
   ],
   "source": [
    "partition\n"
   ]
  },
  {
   "cell_type": "code",
   "execution_count": 52,
   "id": "71ae7b8b",
   "metadata": {},
   "outputs": [],
   "source": [
    "Bullish=[]"
   ]
  },
  {
   "cell_type": "code",
   "execution_count": 53,
   "id": "a06232eb",
   "metadata": {},
   "outputs": [],
   "source": [
    "Bearish=[]"
   ]
  },
  {
   "cell_type": "code",
   "execution_count": 54,
   "id": "28dbe5a3",
   "metadata": {},
   "outputs": [],
   "source": [
    "Sideways=[]"
   ]
  },
  {
   "cell_type": "markdown",
   "id": "6cc87cc6",
   "metadata": {},
   "source": [
    "# for partition less than 40"
   ]
  },
  {
   "cell_type": "code",
   "execution_count": 55,
   "id": "b3f42ebc",
   "metadata": {},
   "outputs": [],
   "source": [
    "if trend!='sideway':\n",
    "    if partition <40:\n",
    "        if close[-1]-open[-1]>0:\n",
    "             if high[-1]-close[-1]>open[-1]-low[-1]:\n",
    "                    if trend=='downtrend':\n",
    "                         Bearish.append(ticker.upper())\n",
    "                            \n",
    "                    if trend=='uptrend':\n",
    "                         Bearish.append(ticker.upper())\n",
    "                    \n",
    "      \n",
    "             \n",
    "            \n",
    "            \n",
    "            \n",
    "            \n",
    "                    \n",
    "                            \n",
    "                            \n",
    "          \n",
    "            \n",
    "               \n",
    "            \n",
    "       \n",
    "        \n",
    "    \n",
    "                \n",
    "                \n",
    "        \n",
    "        \n",
    "    "
   ]
  },
  {
   "cell_type": "code",
   "execution_count": 56,
   "id": "5e2cf70b",
   "metadata": {},
   "outputs": [],
   "source": [
    "if trend!='sideway':\n",
    "    if partition <40:\n",
    "        if close[-1]-open[-1]>0:\n",
    "             if high[-1]-close[-1]<open[-1]-low[-1]:\n",
    "                    if trend=='downtrend':\n",
    "                         Bullish.append(ticker.upper())\n",
    "                         \n",
    "                    if trend=='uptrend':\n",
    "                         Bullish.append(ticker.upper())\n",
    "                    "
   ]
  },
  {
   "cell_type": "code",
   "execution_count": 57,
   "id": "aa98ef63",
   "metadata": {},
   "outputs": [
    {
     "data": {
      "text/plain": [
       "[]"
      ]
     },
     "execution_count": 57,
     "metadata": {},
     "output_type": "execute_result"
    }
   ],
   "source": [
    "Bullish"
   ]
  },
  {
   "cell_type": "code",
   "execution_count": 58,
   "id": "abd98794",
   "metadata": {},
   "outputs": [],
   "source": [
    "if trend!='sideway':\n",
    "    if partition <40:\n",
    "        if close[-1]-open[-1]>0:\n",
    "             if high[-1]-close[-1]==open[-1]-low[-1]:\n",
    "                    Sideways.append(ticker.append())"
   ]
  },
  {
   "cell_type": "code",
   "execution_count": 59,
   "id": "a2ad4c82",
   "metadata": {},
   "outputs": [],
   "source": [
    "if trend!='sideway':\n",
    "    if partition <40:\n",
    "        if close[-1]-open[-1]<0:\n",
    "             if high[-1]-open[-1]>close[-1]-low[-1]:\n",
    "                    if trend=='downtrend':\n",
    "                         Bearish.append(ticker.upper())\n",
    "                    if trend=='uptrend':\n",
    "                         Bearish.append(ticker.upper())"
   ]
  },
  {
   "cell_type": "code",
   "execution_count": 60,
   "id": "c0d9f6d2",
   "metadata": {},
   "outputs": [],
   "source": [
    "if trend!='sideway':\n",
    "    if partition <40:\n",
    "        if close[-1]-open[-1]<0:\n",
    "             if high[-1]-open[-1]<close[-1]-low[-1]:\n",
    "                    if trend=='downtrend':\n",
    "                         Bullish.append(ticker.upper())\n",
    "                    if trend=='uptrend':\n",
    "                         Bullish.append(ticker.upper())"
   ]
  },
  {
   "cell_type": "code",
   "execution_count": 61,
   "id": "ceb3b279",
   "metadata": {},
   "outputs": [],
   "source": [
    "if trend!='sideway':\n",
    "    if partition <40:\n",
    "        if close[-1]-open[-1]<0:\n",
    "             if high[-1]-open[-1]==close[-1]-low[-1]:\n",
    "                    Sideways.append(ticker.append())"
   ]
  },
  {
   "cell_type": "markdown",
   "id": "b43453a3",
   "metadata": {},
   "source": [
    "# for parition greater than 40"
   ]
  },
  {
   "cell_type": "code",
   "execution_count": 62,
   "id": "27203dd5",
   "metadata": {},
   "outputs": [],
   "source": [
    "if trend!='sideway':\n",
    "    if partition >40:\n",
    "        if close[-1]-open[-1]>0:\n",
    "             if high[-1]-close[-1]>open[-1]-low[-1]:\n",
    "                    if close[-1]-open[-1]>=high[-1]-close[-1]:\n",
    "                         if trend=='downtrend':\n",
    "                                \n",
    "                                Bullish.append(ticker.upper())\n",
    "                        \n",
    "                         elif trend=='uptrend':\n",
    "                                Bullish.append(ticker.upper())\n",
    "                                \n",
    "                    elif close[-1]-open[-1]<high[-1]-close[-1]:\n",
    "                        \n",
    "                         if trend=='downtrend':\n",
    "                                \n",
    "                                \n",
    "                                Bearish.append(ticker.upper())\n",
    "                        \n",
    "                         elif trend=='uptrend':\n",
    "                                \n",
    "                                Bearish.append(ticker.upper())            \n",
    "                         \n",
    "                         \n",
    "                       \n",
    "                        \n",
    "                    \n",
    "                    "
   ]
  },
  {
   "cell_type": "code",
   "execution_count": 63,
   "id": "81269ed0",
   "metadata": {},
   "outputs": [
    {
     "data": {
      "text/plain": [
       "[]"
      ]
     },
     "execution_count": 63,
     "metadata": {},
     "output_type": "execute_result"
    }
   ],
   "source": [
    "Bullish"
   ]
  },
  {
   "cell_type": "code",
   "execution_count": 64,
   "id": "64fa3e2e",
   "metadata": {},
   "outputs": [],
   "source": [
    "if trend!='sideway':\n",
    "    if partition >40:\n",
    "        if close[-1]-open[-1]>0:\n",
    "             if high[-1]-close[-1]<open[-1]-low[-1]:\n",
    "                    if close[-1]-open[-1]>open[-1]-low[-1]:\n",
    "                         if trend=='downtrend':\n",
    "                                \n",
    "                                Bullish.append(ticker.upper())\n",
    "                        \n",
    "                         elif trend=='uptrend':\n",
    "                                Bullish.append(ticker.upper())\n",
    "                                \n",
    "                    elif close[-1]-open[-1]<high[-1]-close[-1]:\n",
    "                        \n",
    "                         if trend=='downtrend':\n",
    "                                \n",
    "                                \n",
    "                                Bullish.append(ticker.upper())\n",
    "                        \n",
    "                         elif trend=='uptrend':\n",
    "                                \n",
    "                                Bullish.append(ticker.upper())            \n",
    "                         "
   ]
  },
  {
   "cell_type": "code",
   "execution_count": 65,
   "id": "8525f5b0",
   "metadata": {},
   "outputs": [],
   "source": [
    "if trend!='sideway':\n",
    "    if partition >40:\n",
    "        if close[-1]-open[-1]>0:\n",
    "             if high[-1]-close[-1]==open[-1]-low[-1]:\n",
    "                    if close[-1]-open[-1]> high[-1]-close[-1] and  close[-1]-open[-1]>open[-1]-low[-1]:\n",
    "                        Bullish.append(ticker.upper())\n",
    "                    else:\n",
    "                        Sideways.append(ticker.upper())\n",
    "                   "
   ]
  },
  {
   "cell_type": "code",
   "execution_count": 66,
   "id": "3df741b6",
   "metadata": {},
   "outputs": [],
   "source": [
    "if trend!='sideway':\n",
    "    if partition >40:\n",
    "        if close[-1]-open[-1]<0:\n",
    "             if high[-1]-open[-1]>close[-1]-low[-1]:\n",
    "                    if open[-1]-close[-1]>high[-1]-open[-1]:\n",
    "                         if trend=='downtrend':\n",
    "                                \n",
    "                                Bearish.append(ticker.upper())\n",
    "                        \n",
    "                         elif trend=='uptrend':\n",
    "                                Bearish.append(ticker.upper())\n",
    "                                \n",
    "                    elif open[-1]-close[-1]<high[-1]-open[-1]:\n",
    "                        \n",
    "                         if trend=='downtrend':\n",
    "                                \n",
    "                                \n",
    "                                Bearish.append(ticker.upper())\n",
    "                        \n",
    "                         elif trend=='uptrend':\n",
    "                                \n",
    "                                Bearsih.append(ticker.upper())  "
   ]
  },
  {
   "cell_type": "code",
   "execution_count": 67,
   "id": "91575ec1",
   "metadata": {},
   "outputs": [],
   "source": [
    "if trend!='sideway':\n",
    "    if partition >40:\n",
    "        if close[-1]-open[-1]<0:\n",
    "             if high[-1]-open[-1]<close[-1]-low[-1]:\n",
    "                    if open[-1]-close[-1]>close[-1]-low[-1]:\n",
    "                         if trend=='downtrend':\n",
    "                                \n",
    "                                Bearish.append(ticker.upper())\n",
    "                        \n",
    "                         elif trend=='uptrend':\n",
    "                                Bearish.append(ticker.upper())\n",
    "                                \n",
    "                    elif open[-1]-close[-1]<high[-1]-open[-1]:\n",
    "                        \n",
    "                         if trend=='downtrend':\n",
    "                                \n",
    "                                \n",
    "                                Bullish.append(ticker.upper())\n",
    "                        \n",
    "                         elif trend=='uptrend':\n",
    "                                \n",
    "                                Bullish.append(ticker.upper())  "
   ]
  },
  {
   "cell_type": "code",
   "execution_count": 68,
   "id": "112f3924",
   "metadata": {},
   "outputs": [],
   "source": [
    "if trend!='sideway':\n",
    "    if partition >40:\n",
    "        if close[-1]-open[-1]<0:\n",
    "             if high[-1]-open[-1]==close[-1]-low[-1]:\n",
    "                    if open[-1]-close[-1]> high[-1]-open[-1] and  open[-1]-close[-1]>close[-1]-low[-1]:\n",
    "                        Bearish.append(ticker.upper())\n",
    "                    else:\n",
    "                        Sideways.append(ticker.upper())"
   ]
  },
  {
   "cell_type": "code",
   "execution_count": 70,
   "id": "4e7692ab",
   "metadata": {
    "scrolled": true
   },
   "outputs": [],
   "source": [
    "if trend=='sideways':\n",
    "    Sideways.append(ticker.upper())"
   ]
  },
  {
   "cell_type": "markdown",
   "id": "a43e16f2",
   "metadata": {},
   "source": [
    "# RESULT\n"
   ]
  },
  {
   "cell_type": "code",
   "execution_count": 71,
   "id": "9b487455",
   "metadata": {},
   "outputs": [
    {
     "name": "stdout",
     "output_type": "stream",
     "text": [
      "ACN Will be SidewaysSo do not BUY it\n"
     ]
    }
   ],
   "source": [
    "if len(Bullish)!=0:\n",
    "    print(ticker.upper() +' Will be '+ 'Bullish')\n",
    "elif len(Bearish)!=0:\n",
    "    print(ticker.upper() +' Will be '+ 'Bearsih') \n",
    "elif len(Sideways)!=0:\n",
    "    print(ticker.upper() +' Will be '+ 'Sideways'+' So do not BUY it')    "
   ]
  },
  {
   "cell_type": "code",
   "execution_count": null,
   "id": "0799f4b9",
   "metadata": {},
   "outputs": [],
   "source": []
  },
  {
   "cell_type": "code",
   "execution_count": null,
   "id": "99a38ae7",
   "metadata": {},
   "outputs": [],
   "source": []
  }
 ],
 "metadata": {
  "kernelspec": {
   "display_name": "Python 3 (ipykernel)",
   "language": "python",
   "name": "python3"
  },
  "language_info": {
   "codemirror_mode": {
    "name": "ipython",
    "version": 3
   },
   "file_extension": ".py",
   "mimetype": "text/x-python",
   "name": "python",
   "nbconvert_exporter": "python",
   "pygments_lexer": "ipython3",
   "version": "3.11.5"
  }
 },
 "nbformat": 4,
 "nbformat_minor": 5
}
